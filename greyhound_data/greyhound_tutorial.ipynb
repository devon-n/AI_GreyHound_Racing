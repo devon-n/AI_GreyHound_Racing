{
 "cells": [
  {
   "cell_type": "code",
   "execution_count": null,
   "id": "e26123fa-1da8-49a5-9ad3-31db8f4630e1",
   "metadata": {},
   "outputs": [],
   "source": [
    "# Import libraries\n",
    "import betfairlightweight\n",
    "from betfairlightweight import filters\n",
    "from datetime import datetime\n",
    "from datetime import timedelta\n",
    "from dateutil import tz\n",
    "import math\n",
    "import numpy as np\n",
    "import pandas as pd\n",
    "from scipy.stats import zscore\n",
    "from sklearn.linear_model import LogisticRegression\n",
    "import fasttrack as ft"
   ]
  },
  {
   "cell_type": "code",
   "execution_count": null,
   "id": "a6f1b4aa-17c5-497e-bc45-8a1b938b7c2d",
   "metadata": {},
   "outputs": [],
   "source": [
    "from fasttrack import Fasttrack as ft"
   ]
  },
  {
   "cell_type": "code",
   "execution_count": null,
   "id": "b7c59450-bc4c-4482-afff-cfe68379985b",
   "metadata": {},
   "outputs": [],
   "source": [
    "today = datetime.now()\n",
    "today = pd.to_datetime(today).floor(freq='D')\n",
    "today_str = datetime.strftime(today, '%d-%B-%Y')\n",
    "today_str"
   ]
  },
  {
   "cell_type": "code",
   "execution_count": null,
   "id": "aefd325d-3c7a-4e5a-aba5-d94a1db9223a",
   "metadata": {},
   "outputs": [],
   "source": [
    "seckey = 'security key goes here'\n",
    "greys = ft.Fasttrack(seckey)"
   ]
  },
  {
   "cell_type": "code",
   "execution_count": null,
   "id": "b3fc953b-5f6c-40ce-b536-415354087aac",
   "metadata": {},
   "outputs": [],
   "source": [
    "# Find list of greyhound tracks and fasttrack codes\n",
    "track_codes = greys.listTracks()\n",
    "track_codes.head()"
   ]
  },
  {
   "cell_type": "code",
   "execution_count": null,
   "id": "0133c2ee-2543-4439-86c8-3b490629233a",
   "metadata": {},
   "outputs": [],
   "source": [
    "# Filter to only use Qld\n",
    "tracks_filter = [track_codes[track_codes['state'] == 'QLD']['track_code']]\n",
    "tracks_filter"
   ]
  },
  {
   "cell_type": "code",
   "execution_count": null,
   "id": "3251dcef-bf98-473b-b09d-c88922882fa1",
   "metadata": {},
   "outputs": [],
   "source": [
    "race_details, dog_results = greys.getRaceResults('2015-01-01', today_str)\n",
    "race_details.head()"
   ]
  },
  {
   "cell_type": "code",
   "execution_count": null,
   "id": "d4f411bc-bfbe-43ff-998e-0aa62e3d518b",
   "metadata": {},
   "outputs": [],
   "source": [
    "dog_results.head()"
   ]
  },
  {
   "cell_type": "code",
   "execution_count": null,
   "id": "cc03e60e-bc18-4076-a29e-9612209476fb",
   "metadata": {},
   "outputs": [],
   "source": [
    "# Clean data\n",
    "race_details['Distance'] = race_details['Distance'].apply(lambda x: int(x.replace('m', '')))\n",
    "race_details = race_details.rename(columns = {'@id': 'FastTrack_RaceId'})\n",
    "race_details['date_dt'] = pd.to_datetime(race_details['date'], format='%d %b %y')\n",
    "race_details['trackdist'] = race_details['Track'] + race_details['Distance'].astype(str)\n",
    "\n",
    "dog_results = dog_results.rename(columns = {'@id': 'FastTrack_DogId', 'RaceId':'FastTrack_RaceId'})\n",
    "dog_results['StartPrice'] = dog_results['StartPrice'].apply(lambda x: None if x == None else float(x.replace('$', '').replace('F','')))\n",
    "dog_results = dog_results[~dog_results['Box'].isnull()]\n",
    "dog_results = dog_results.merge(\n",
    "    race_details[['FastTrack_RaceId', 'Distance', 'RaceGrade', 'Track', 'date_dt', 'trackdist']],\n",
    "    how = 'left',\n",
    "    on = 'FastTrack_RaceId')\n",
    "dog_results['RunTIme'] = dog_results['RunTime'].astype(float)\n",
    "dog_results['Prizemoney'] = dog_results['Prizemoney'].astype(float)\n",
    "dog_results['win'] = dog_results['Place'].apply(lambda x: 1 if x in ['1', '1='] else 0)\n",
    "\n",
    "print('Number of races in dataset: ' + str(dog_results['FastTrack_RaceId'].nunique()))"
   ]
  },
  {
   "cell_type": "code",
   "execution_count": null,
   "id": "25da122d-4ebc-476e-9b9c-eacc8e73e934",
   "metadata": {},
   "outputs": [],
   "source": [
    "# Feature engineering\n",
    "dog_results = dog_results.sort_values(by=['FastTrack_DogId', 'date_dt'])\n",
    "dog_results = dog_results.set_index('date_dt')\n",
    "\n",
    "# Normalise runtimes for each trackdist so we can compare runs across different track distance combinations\n",
    "# This assumes a dog having a good runtime on one track will have a good runtime on a different track\n",
    "dog_results['RunTime_norm'] = dog_results.groupby('trackdist')['RunTime'].transform(lambda x: zscore(x, nan_policy='omit'))\n",
    "\n",
    "# Feature 1 = total prize money won over last 365 days\n",
    "dog_results['Prizemoney_365D'] = dog_results.groupby('FastTrack_DogId')['Prizemoney'].apply(lambda x: x.rolling('365D').sum().shift(1))\n",
    "dog_results['Prizemoney_365D'].fillna(0, inplace=True)\n",
    "\n",
    "# Feature 2 = Number of runs over last 365D\n",
    "dog_results['runs_365D'] = dog_results.groupby('FastTrack_DogId')['win'].apply(lambda x: x.rolling('365D').count().shift(1))\n",
    "dog_results['runs_365D'].fillna(0, inplace=True)\n",
    "\n",
    "# Feature 3 = win % over the last 365D\n",
    "dog_results['wins_365D'] = dog_results.groupby('FastTrack_DogId')['win'].apply(lambda x: x.rolling('365D').sum().shift(1))\n",
    "dog_results['wins_365D'].fillna(0, inplace=True)\n",
    "dog_results['win%_365D'] = dog_results['wins_365D'] / dog_results['runs_365D']\n",
    "\n",
    "# Feature 4 = Best runtime over the last 365D\n",
    "dog_results['RunTime_norm_best_365D'] = dog_results.groupby('FastTrack_DogId')['RunTime_norm'].apply(lambda x: x.rolling('365D').min().shift(1))\n",
    "\n",
    "# Feature 4 = Median runtime over the last 365D\n",
    "dog_results['RunTime_norm_median_365D'] = dog_results.grouopby('FastTrack_DogId')['RunTime_norm'].apply(lambda x: x.rolling('365D').median().shift(1))\n",
    "\n",
    "dog_results.head()"
   ]
  },
  {
   "cell_type": "code",
   "execution_count": null,
   "id": "502be57c-bd30-4d2d-8e65-52ca11525a3e",
   "metadata": {},
   "outputs": [],
   "source": [
    "# Convert features to Z-scores within each race so they are on a relative basis\n",
    "dog_results = dog_results.sort_values(by = ['date_dt', 'FastTrack_RaceId'])\n",
    "\n",
    "for col in ['Prizemoney_365D', 'runs_365D', 'win%_365D', 'RunTime_norm_best_365D', 'RunTime_norm_median_365D']:\n",
    "    dog_results[col + '_ Z'] = dog_results.groupby('FastTrack_RaceId')[col].transform(lambda x: zscore(x, ddof = 1))\n",
    "\n",
    "dog_results['runs_365D_Z'].fillna(0, inplace=True)\n",
    "dog_results['win%_365D_Z'].fillna(0, inplace=True)"
   ]
  },
  {
   "cell_type": "code",
   "execution_count": null,
   "id": "f715f5e3-69aa-4a6d-a976-d5690b78f986",
   "metadata": {},
   "outputs": [],
   "source": [
    "# Train the model\n",
    "dog_results = dog_results.reset_index()\n",
    "dog_results = dog_results.sort_values(by = ['date_dt', 'FastTrack_RaceId'])\n",
    "\n",
    "# Only keep data after 2019\n",
    "model_df = dog_results[dog_results['date_dt'] >= '2019-01-01']\n",
    "feature_cols = ['Prizemoney_365D_Z', 'runs_365D_Z', 'win%_365D_Z', 'RunTime_norm_best_365D_Z', 'RunTime_norm_median_365D_Z']\n",
    "model_df = model_df[['date_dt', 'FastTrack_RaceId', 'DogName', 'win', 'StartPrice'] + feature_cols]\n",
    "\n",
    "# Only train model off races wehere each dog has a value for each feature\n",
    "races_exclude = model_df[model_df.isnull().any(acis=1)]['FastTrack_RaceId'].drop_duplicates()\n",
    "model_df = model_df[~model_df['FastTrack_RaceId'].isin(races_exclude)]\n",
    "\n",
    "# check for nulls\n",
    "model_df.drop(columns = 'StartPrice').isnull().values.any()"
   ]
  },
  {
   "cell_type": "code",
   "execution_count": null,
   "id": "df33fafa-f2aa-4724-9c05-39a25d957eba",
   "metadata": {},
   "outputs": [],
   "source": [
    "train_data = model_df[model_df['date_dt'] < '2021-01-01'].reset_index(drop=True)\n",
    "test_data = model_df[model_df['date_dt'] < '2021-01-01'].reset_index(drop=True)\n",
    "\n",
    "train_x, train_y = train_data[feature_cols], train_data['win']\n",
    "test_x, test_y = test_data[feature_cols], test_data['win']\n",
    "\n",
    "logit_model = LogisticRegression()\n",
    "logit_model.fit(train_x, train_y)\n",
    "\n",
    "test_data['prob_unscaled'] = logit_model.predict_proba(test_x)[:,1]\n",
    "test_data.groupby('FastTrack_RaceId')['prob_unscaled'].sum()"
   ]
  },
  {
   "cell_type": "code",
   "execution_count": null,
   "id": "a6c369ee-6bea-4f02-a104-5564d3643d90",
   "metadata": {},
   "outputs": [],
   "source": [
    "# Scale raw model output so they sum to unity\n",
    "test_data['prob_scaled'] = test_data.groupby('FastTrack_RaceId')['prob_unscaled'].apply(lambda x: x/sum(x))\n",
    "test_data.groupby('FastTrack_RaceId')['prob_scaled'].sum()"
   ]
  },
  {
   "cell_type": "code",
   "execution_count": null,
   "id": "2dfb498d-d7a3-4625-8c24-dff735760b0a",
   "metadata": {},
   "outputs": [],
   "source": [
    "# Create a column for highest model prediction\n",
    "# And for starting price to compare\n",
    "test_data['model_win_prediction'] = test_data.groupby('FastTrack_RaceId')['prob_scaled'].apply(lambda x: x == max(x))\n",
    "test_data['odds_win_prediction'] = test_data.groupby('FastTrack_RaceId')['StartPrice'].apply(lambda x: x == min(x))\n",
    "\n",
    "print('Model predicts the winner in {:.2%} of races'.format(len(test_data[(test_data['model_win_prediction'] == True) & (test_data['win'] == 1)]) / test_data['FastTrack_RaceId'].nunique()))\n",
    "print('Starting Price Odds predicts winner in {:.2%} of races'.format(len(test_data[(test_data['odds_win_prediction'] == True) & (test_data['win'] == 1)]) / test_data['FastTrack_RaceId'].nunique()))"
   ]
  },
  {
   "cell_type": "code",
   "execution_count": null,
   "id": "9d45e84a-8c27-41a7-9f80-3076fbd25940",
   "metadata": {},
   "outputs": [],
   "source": [
    "# Retrieve todays matches\n",
    "qld_races_today, qld_dogs_today = greys.getBasicFormat('2021-06-16', tracks_filter)\n",
    "qld_races_today.head()"
   ]
  },
  {
   "cell_type": "code",
   "execution_count": null,
   "id": "9e96c252-c35e-42b2-ab1b-0a131d1895e8",
   "metadata": {},
   "outputs": [],
   "source": [
    "# qld tracks running today\n",
    "qld_tracks_today = list(qld_races_today['Track'].unique())\n",
    "qld_tracks_today"
   ]
  },
  {
   "cell_type": "code",
   "execution_count": null,
   "id": "3f2db165-a132-475b-a222-1cbe2266992e",
   "metadata": {},
   "outputs": [],
   "source": [
    "my_username = \"your_username\"\n",
    "my_password = \"your_password\"\n",
    "my_app_key = \"your_app_key\"\n",
    "\n",
    "trading = betfairlightweight.APIClient(my_username, my_password, app_key=my_app_key)\n",
    "trading.login_interactive()"
   ]
  },
  {
   "cell_type": "code",
   "execution_count": null,
   "id": "bc7b3cd6-5cb7-4bb2-8135-75e88d788ef5",
   "metadata": {},
   "outputs": [],
   "source": []
  }
 ],
 "metadata": {
  "kernelspec": {
   "display_name": "Python 3",
   "language": "python",
   "name": "python3"
  },
  "language_info": {
   "codemirror_mode": {
    "name": "ipython",
    "version": 3
   },
   "file_extension": ".py",
   "mimetype": "text/x-python",
   "name": "python",
   "nbconvert_exporter": "python",
   "pygments_lexer": "ipython3",
   "version": "3.8.8"
  }
 },
 "nbformat": 4,
 "nbformat_minor": 5
}
